{
 "cells": [
  {
   "cell_type": "markdown",
   "metadata": {},
   "source": [
    "# Python Basic Programming Assignment_2."
   ]
  },
  {
   "cell_type": "raw",
   "metadata": {},
   "source": [
    "1. Write a Python program to convert kilometers to miles?"
   ]
  },
  {
   "cell_type": "code",
   "execution_count": 2,
   "metadata": {},
   "outputs": [
    {
     "name": "stdout",
     "output_type": "stream",
     "text": [
      "Enter the Kilometers:4.5\n",
      "4.5 Kilometers is equal to miles 2.7961695\n"
     ]
    }
   ],
   "source": [
    "Kilometers=float(input(\"Enter the Kilometers:\"))\n",
    "cf=0.621371\n",
    "\n",
    "#Calculate Miles.\n",
    "miles=Kilometers *cf    #Conversion formula of kilometer to miles.\n",
    "print(Kilometers,\"Kilometers is equal to miles\",miles)"
   ]
  },
  {
   "cell_type": "raw",
   "metadata": {},
   "source": [
    "2)Write a Python program to convert Celsius to Fahrenheit?"
   ]
  },
  {
   "cell_type": "code",
   "execution_count": 3,
   "metadata": {},
   "outputs": [
    {
     "name": "stdout",
     "output_type": "stream",
     "text": [
      "Enter the temperature in Celsius25\n",
      "Temperature in Fahrenheit 77.0\n"
     ]
    }
   ],
   "source": [
    "Celsius=float(input(\"Enter the temperature in Celsius\"))\n",
    "Fahrenheit=Celsius*1.8+32          #conversion formula for celsius to fahrenheit.\n",
    "print(\"Temperature in Fahrenheit\",Fahrenheit)"
   ]
  },
  {
   "cell_type": "raw",
   "metadata": {},
   "source": [
    "3) Write a Python program to display calendar?"
   ]
  },
  {
   "cell_type": "code",
   "execution_count": 4,
   "metadata": {},
   "outputs": [
    {
     "name": "stdout",
     "output_type": "stream",
     "text": [
      "Enter the year:2019\n",
      "Enter the month:02\n",
      "   February 2019\n",
      "Mo Tu We Th Fr Sa Su\n",
      "             1  2  3\n",
      " 4  5  6  7  8  9 10\n",
      "11 12 13 14 15 16 17\n",
      "18 19 20 21 22 23 24\n",
      "25 26 27 28\n",
      "\n"
     ]
    }
   ],
   "source": [
    "#importing Calendar Module.\n",
    "import calendar\n",
    "\n",
    "yy= int(input(\"Enter the year:\"))   #Year\n",
    "mm= int(input(\"Enter the month:\"))  #Month\n",
    "\n",
    "print(calendar.month(yy,mm))\n"
   ]
  },
  {
   "cell_type": "raw",
   "metadata": {},
   "source": [
    "4. Write a Python program to solve quadratic equation?"
   ]
  },
  {
   "cell_type": "code",
   "execution_count": 6,
   "metadata": {},
   "outputs": [
    {
     "name": "stdout",
     "output_type": "stream",
     "text": [
      "The roots are:\n",
      "(-1-1.4142135623730951j)\n",
      "(-1+1.4142135623730951j)\n"
     ]
    }
   ],
   "source": [
    "import cmath\n",
    "\n",
    "a=2\n",
    "b=4\n",
    "c=6\n",
    "\n",
    "d = (b**2) - (4*a*c) #calculate the discriminant.\n",
    "\n",
    "# find two solutions.\n",
    "\n",
    "sol1=(-b-cmath.sqrt(d))/(2*a)\n",
    "sol2=(-b+cmath.sqrt(d))/(2*a)\n",
    "\n",
    "print(\"The roots are:\")\n",
    "print(sol1)\n",
    "print(sol2)"
   ]
  },
  {
   "cell_type": "raw",
   "metadata": {},
   "source": [
    "5. Write a Python program to swap two variables without temp variable?"
   ]
  },
  {
   "cell_type": "code",
   "execution_count": 5,
   "metadata": {},
   "outputs": [
    {
     "name": "stdout",
     "output_type": "stream",
     "text": [
      "The value of x is: 70\n",
      "The value of y is: 20\n"
     ]
    }
   ],
   "source": [
    "x=20\n",
    "y=70\n",
    "\n",
    "x,y=y,x     #Swapping the values.\n",
    "\n",
    "print(\"The value of x is:\",x)\n",
    "print(\"The value of y is:\",y)"
   ]
  },
  {
   "cell_type": "code",
   "execution_count": null,
   "metadata": {},
   "outputs": [],
   "source": []
  }
 ],
 "metadata": {
  "kernelspec": {
   "display_name": "Python 3",
   "language": "python",
   "name": "python3"
  },
  "language_info": {
   "codemirror_mode": {
    "name": "ipython",
    "version": 3
   },
   "file_extension": ".py",
   "mimetype": "text/x-python",
   "name": "python",
   "nbconvert_exporter": "python",
   "pygments_lexer": "ipython3",
   "version": "3.7.1"
  }
 },
 "nbformat": 4,
 "nbformat_minor": 2
}
